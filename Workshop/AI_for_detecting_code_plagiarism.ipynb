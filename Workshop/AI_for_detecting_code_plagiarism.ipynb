{
  "cells": [
    {
      "cell_type": "markdown",
      "metadata": {
        "id": "V__5urAUIq5n"
      },
      "source": [
        "# Coding Exercise for PMU-B Coding AI - Code Clone Detector"
      ]
    },
    {
      "cell_type": "markdown",
      "metadata": {
        "id": "9atnAK9gI6xz"
      },
      "source": [
        "In this coding exercise, you will try using code2vec to generate code vectors from code snippets and find similar code snippets by using cosine similarity. Please follow the steps below."
      ]
    },
    {
      "cell_type": "markdown",
      "metadata": {
        "id": "8ghYkJ5VImaI"
      },
      "source": [
        "1. Move the main working folder."
      ]
    },
    {
      "cell_type": "code",
      "execution_count": null,
      "metadata": {
        "colab": {
          "base_uri": "https://localhost:8080/"
        },
        "id": "i3LhiNE0IC3X",
        "outputId": "a7815420-a125-4287-a9eb-91182a1c48f3"
      },
      "outputs": [
        {
          "name": "stdout",
          "output_type": "stream",
          "text": [
            "/content\n"
          ]
        }
      ],
      "source": [
        "cd /content"
      ]
    },
    {
      "cell_type": "markdown",
      "metadata": {
        "id": "WOM_e3D6JFTv"
      },
      "source": [
        "2. Clone the code2vec project to this working folder."
      ]
    },
    {
      "cell_type": "code",
      "execution_count": null,
      "metadata": {
        "colab": {
          "base_uri": "https://localhost:8080/"
        },
        "id": "-zyYmOBFV5FJ",
        "outputId": "5e0867a3-dfdd-4513-c6ef-eb7dd88fe8d7"
      },
      "outputs": [
        {
          "name": "stdout",
          "output_type": "stream",
          "text": [
            "Cloning into 'code2vec'...\n",
            "remote: Enumerating objects: 718, done.\u001b[K\n",
            "remote: Counting objects: 100% (14/14), done.\u001b[K\n",
            "remote: Compressing objects: 100% (13/13), done.\u001b[K\n",
            "remote: Total 718 (delta 2), reused 8 (delta 0), pack-reused 704 (from 1)\u001b[K\n",
            "Receiving objects: 100% (718/718), 5.14 MiB | 9.14 MiB/s, done.\n",
            "Resolving deltas: 100% (418/418), done.\n"
          ]
        }
      ],
      "source": [
        "!git clone https://github.com/tech-srl/code2vec.git"
      ]
    },
    {
      "cell_type": "markdown",
      "metadata": {
        "id": "0JFxEYG7SGh2"
      },
      "source": [
        "3. Clone the test data to this working folder."
      ]
    },
    {
      "cell_type": "code",
      "execution_count": null,
      "metadata": {
        "colab": {
          "base_uri": "https://localhost:8080/"
        },
        "id": "vd-JJkmNPQLd",
        "outputId": "26e5857b-f607-42c4-9326-51d6162e8da2"
      },
      "outputs": [
        {
          "name": "stdout",
          "output_type": "stream",
          "text": [
            "Cloning into 'PMUB-CodingAI-CloneData'...\n",
            "remote: Enumerating objects: 43, done.\u001b[K\n",
            "remote: Counting objects: 100% (43/43), done.\u001b[K\n",
            "remote: Compressing objects: 100% (31/31), done.\u001b[K\n",
            "Receiving objects: 100% (43/43), 5.91 KiB | 2.95 MiB/s, done.\n",
            "remote: Total 43 (delta 12), reused 39 (delta 11), pack-reused 0 (from 0)\u001b[K\n",
            "Resolving deltas: 100% (12/12), done.\n"
          ]
        }
      ],
      "source": [
        "!git clone https://github.com/cragkhit/PMUB-CodingAI-CloneData.git"
      ]
    },
    {
      "cell_type": "markdown",
      "metadata": {
        "id": "lgO80xAcJJIR"
      },
      "source": [
        "3. Download the pre-trained code2vec model."
      ]
    },
    {
      "cell_type": "code",
      "execution_count": null,
      "metadata": {
        "colab": {
          "base_uri": "https://localhost:8080/"
        },
        "id": "vrfkTrN5eBEs",
        "outputId": "3d6605c6-63ec-4f19-b462-ef272e70ba9d"
      },
      "outputs": [
        {
          "name": "stdout",
          "output_type": "stream",
          "text": [
            "--2024-12-13 18:46:29--  https://s3.amazonaws.com/code2vec/model/java14m_model.tar.gz\n",
            "Resolving s3.amazonaws.com (s3.amazonaws.com)... 54.231.165.72, 52.216.95.109, 54.231.198.240, ...\n",
            "Connecting to s3.amazonaws.com (s3.amazonaws.com)|54.231.165.72|:443... connected.\n",
            "HTTP request sent, awaiting response... 200 OK\n",
            "Length: 1440921240 (1.3G) [application/x-tar]\n",
            "Saving to: ‘java14m_model.tar.gz’\n",
            "\n",
            "java14m_model.tar.g 100%[===================>]   1.34G  31.5MB/s    in 45s     \n",
            "\n",
            "2024-12-13 18:47:15 (30.4 MB/s) - ‘java14m_model.tar.gz’ saved [1440921240/1440921240]\n",
            "\n",
            "models/java14_model/saved_model_iter8.release.data-00000-of-00001\n",
            "models/java14_model/saved_model_iter8.release.index\n",
            "models/java14_model/saved_model_iter8.release.meta\n",
            "models/java14_model/dictionaries.bin\n"
          ]
        }
      ],
      "source": [
        "!wget https://s3.amazonaws.com/code2vec/model/java14m_model.tar.gz\n",
        "!tar -xvzf java14m_model.tar.gz"
      ]
    },
    {
      "cell_type": "markdown",
      "metadata": {
        "id": "Nb6zSn6eJOPb"
      },
      "source": [
        "4. Go inside the code2vec project."
      ]
    },
    {
      "cell_type": "code",
      "execution_count": null,
      "metadata": {
        "colab": {
          "base_uri": "https://localhost:8080/"
        },
        "id": "dRqx9kdLWDNh",
        "outputId": "b914a492-99fc-4a4f-afe9-a5d5bee15648"
      },
      "outputs": [
        {
          "name": "stdout",
          "output_type": "stream",
          "text": [
            "/content/code2vec\n"
          ]
        }
      ],
      "source": [
        "cd code2vec/"
      ]
    },
    {
      "cell_type": "markdown",
      "metadata": {
        "id": "h4vnlY3dJRJB"
      },
      "source": [
        "5. Try running code2vec to generate a code vector from the given Input.java file."
      ]
    },
    {
      "cell_type": "code",
      "execution_count": null,
      "metadata": {
        "colab": {
          "background_save": true,
          "base_uri": "https://localhost:8080/"
        },
        "id": "tC85FzkWfOqI",
        "outputId": "ae6147b5-568e-48a8-b2ca-223e13362127"
      },
      "outputs": [
        {
          "name": "stdout",
          "output_type": "stream",
          "text": [
            "2024-12-13 18:39:16.795397: E external/local_xla/xla/stream_executor/cuda/cuda_fft.cc:485] Unable to register cuFFT factory: Attempting to register factory for plugin cuFFT when one has already been registered\n",
            "2024-12-13 18:39:16.818165: E external/local_xla/xla/stream_executor/cuda/cuda_dnn.cc:8454] Unable to register cuDNN factory: Attempting to register factory for plugin cuDNN when one has already been registered\n",
            "2024-12-13 18:39:16.824950: E external/local_xla/xla/stream_executor/cuda/cuda_blas.cc:1452] Unable to register cuBLAS factory: Attempting to register factory for plugin cuBLAS when one has already been registered\n",
            "2024-12-13 18:39:16.842851: I tensorflow/core/platform/cpu_feature_guard.cc:210] This TensorFlow binary is optimized to use available CPU instructions in performance-critical operations.\n",
            "To enable the following instructions: AVX2 FMA, in other operations, rebuild TensorFlow with the appropriate compiler flags.\n",
            "2024-12-13 18:39:18.282758: W tensorflow/compiler/tf2tensorrt/utils/py_utils.cc:38] TF-TRT Warning: Could not find TensorRT\n",
            "2024-12-13 18:39:20,118 INFO     \n",
            "2024-12-13 18:39:20,118 INFO     \n",
            "2024-12-13 18:39:20,118 INFO     ---------------------------------------------------------------------\n",
            "2024-12-13 18:39:20,119 INFO     ---------------------------------------------------------------------\n",
            "2024-12-13 18:39:20,119 INFO     ---------------------- Creating code2vec model ----------------------\n",
            "2024-12-13 18:39:20,119 INFO     ---------------------------------------------------------------------\n",
            "2024-12-13 18:39:20,119 INFO     ---------------------------------------------------------------------\n",
            "2024-12-13 18:39:20,119 INFO     Checking number of examples ...\n",
            "2024-12-13 18:39:20,119 INFO     ---------------------------------------------------------------------\n",
            "2024-12-13 18:39:20,119 INFO     ----------------- Configuration - Hyper Parameters ------------------\n",
            "2024-12-13 18:39:20,119 INFO     CODE_VECTOR_SIZE                          384\n",
            "2024-12-13 18:39:20,119 INFO     CSV_BUFFER_SIZE                           104857600\n",
            "2024-12-13 18:39:20,119 INFO     DEFAULT_EMBEDDINGS_SIZE                   128\n",
            "2024-12-13 18:39:20,119 INFO     DL_FRAMEWORK                              tensorflow\n",
            "2024-12-13 18:39:20,119 INFO     DROPOUT_KEEP_RATE                         0.75\n",
            "2024-12-13 18:39:20,119 INFO     EXPORT_CODE_VECTORS                       True\n",
            "2024-12-13 18:39:20,119 INFO     LOGS_PATH                                 None\n",
            "2024-12-13 18:39:20,119 INFO     MAX_CONTEXTS                              200\n",
            "2024-12-13 18:39:20,120 INFO     MAX_PATH_VOCAB_SIZE                       911417\n",
            "2024-12-13 18:39:20,120 INFO     MAX_TARGET_VOCAB_SIZE                     261245\n",
            "2024-12-13 18:39:20,120 INFO     MAX_TOKEN_VOCAB_SIZE                      1301136\n",
            "2024-12-13 18:39:20,120 INFO     MAX_TO_KEEP                               10\n",
            "2024-12-13 18:39:20,120 INFO     MODEL_LOAD_PATH                           /content/models/java14_model/saved_model_iter8.release\n",
            "2024-12-13 18:39:20,120 INFO     MODEL_SAVE_PATH                           None\n",
            "2024-12-13 18:39:20,120 INFO     NUM_BATCHES_TO_LOG_PROGRESS               100\n",
            "2024-12-13 18:39:20,120 INFO     NUM_TEST_EXAMPLES                         0\n",
            "2024-12-13 18:39:20,120 INFO     NUM_TRAIN_BATCHES_TO_EVALUATE             1800\n",
            "2024-12-13 18:39:20,120 INFO     NUM_TRAIN_EPOCHS                          20\n",
            "2024-12-13 18:39:20,120 INFO     NUM_TRAIN_EXAMPLES                        0\n",
            "2024-12-13 18:39:20,120 INFO     PATH_EMBEDDINGS_SIZE                      128\n",
            "2024-12-13 18:39:20,120 INFO     PREDICT                                   True\n",
            "2024-12-13 18:39:20,120 INFO     READER_NUM_PARALLEL_BATCHES               6\n",
            "2024-12-13 18:39:20,120 INFO     RELEASE                                   False\n",
            "2024-12-13 18:39:20,120 INFO     SAVE_EVERY_EPOCHS                         1\n",
            "2024-12-13 18:39:20,120 INFO     SAVE_T2V                                  None\n",
            "2024-12-13 18:39:20,120 INFO     SAVE_W2V                                  None\n",
            "2024-12-13 18:39:20,121 INFO     SEPARATE_OOV_AND_PAD                      False\n",
            "2024-12-13 18:39:20,121 INFO     SHUFFLE_BUFFER_SIZE                       10000\n",
            "2024-12-13 18:39:20,121 INFO     TARGET_EMBEDDINGS_SIZE                    384\n",
            "2024-12-13 18:39:20,121 INFO     TEST_BATCH_SIZE                           1024\n",
            "2024-12-13 18:39:20,121 INFO     TEST_DATA_PATH                            \n",
            "2024-12-13 18:39:20,121 INFO     TOKEN_EMBEDDINGS_SIZE                     128\n",
            "2024-12-13 18:39:20,121 INFO     TOP_K_WORDS_CONSIDERED_DURING_PREDICTION  10\n",
            "2024-12-13 18:39:20,121 INFO     TRAIN_BATCH_SIZE                          1024\n",
            "2024-12-13 18:39:20,121 INFO     TRAIN_DATA_PATH_PREFIX                    None\n",
            "2024-12-13 18:39:20,121 INFO     USE_TENSORBOARD                           False\n",
            "2024-12-13 18:39:20,121 INFO     VERBOSE_MODE                              1\n",
            "2024-12-13 18:39:20,121 INFO     _Config__logger                           <Logger code2vec (INFO)>\n",
            "2024-12-13 18:39:20,121 INFO     context_vector_size                       384\n",
            "2024-12-13 18:39:20,121 INFO     entire_model_load_path                    /content/models/java14_model/saved_model_iter8.release__entire-model\n",
            "2024-12-13 18:39:20,121 INFO     entire_model_save_path                    None\n",
            "2024-12-13 18:39:20,121 INFO     is_loading                                True\n",
            "2024-12-13 18:39:20,121 INFO     is_saving                                 False\n",
            "2024-12-13 18:39:20,121 INFO     is_testing                                False\n",
            "2024-12-13 18:39:20,121 INFO     is_training                               False\n",
            "2024-12-13 18:39:20,121 INFO     model_load_dir                            /content/models/java14_model\n",
            "2024-12-13 18:39:20,121 INFO     model_weights_load_path                   /content/models/java14_model/saved_model_iter8.release__only-weights\n",
            "2024-12-13 18:39:20,121 INFO     model_weights_save_path                   None\n",
            "2024-12-13 18:39:20,122 INFO     test_steps                                0\n",
            "2024-12-13 18:39:20,122 INFO     train_data_path                           None\n",
            "2024-12-13 18:39:20,122 INFO     train_steps_per_epoch                     0\n",
            "2024-12-13 18:39:20,122 INFO     word_freq_dict_path                       None\n",
            "2024-12-13 18:39:20,122 INFO     ---------------------------------------------------------------------\n",
            "2024-12-13 18:39:20,122 INFO     Loading model vocabularies from: `/content/models/java14_model/dictionaries.bin` ... \n",
            "2024-12-13 18:39:23,055 INFO     Done loading model vocabularies.\n",
            "2024-12-13 18:39:23,840 INFO     Done creating code2vec model\n",
            "2024-12-13 18:39:33.588658: I tensorflow/compiler/mlir/mlir_graph_optimization_pass.cc:388] MLIR V1 optimization pass is not enabled\n",
            "2024-12-13 18:39:58.593062: W external/local_tsl/tsl/framework/cpu_allocator_impl.cc:83] Allocation of 666036736 exceeds 10% of free system memory.\n",
            "2024-12-13 18:39:59.921134: W external/local_tsl/tsl/framework/cpu_allocator_impl.cc:83] Allocation of 465772032 exceeds 10% of free system memory.\n",
            "2024-12-13 18:40:00.758584: W external/local_tsl/tsl/framework/cpu_allocator_impl.cc:83] Allocation of 328766976 exceeds 10% of free system memory.\n",
            "2024-12-13 18:40:02,518 INFO     Initalized variables\n",
            "2024-12-13 18:40:02,540 INFO     Loading model weights from: /content/models/java14_model/saved_model_iter8.release\n",
            "2024-12-13 18:40:05.923728: W external/local_tsl/tsl/framework/cpu_allocator_impl.cc:83] Allocation of 465772032 exceeds 10% of free system memory.\n",
            "2024-12-13 18:40:05.923873: W external/local_tsl/tsl/framework/cpu_allocator_impl.cc:83] Allocation of 328766976 exceeds 10% of free system memory.\n",
            "2024-12-13 18:40:07,730 INFO     Done loading model weights\n",
            "Starting interactive prediction...\n",
            "Modify the file: \"Input.java\" and press any key when ready, or \"q\" / \"quit\" / \"exit\" to exit\n",
            "\n",
            "Original name:\tbubble|sort\n",
            "\t(0.945059) predicted: ['bubble', 'sort']\n",
            "\t(0.032873) predicted: ['sort']\n",
            "\t(0.007062) predicted: ['real', 'run']\n",
            "\t(0.005401) predicted: ['check', 'sorted']\n",
            "\t(0.002470) predicted: ['deep', 'equals']\n",
            "\t(0.002334) predicted: ['edit', 'distance']\n",
            "\t(0.001619) predicted: ['get', 'points']\n",
            "\t(0.001318) predicted: ['m']\n",
            "\t(0.001132) predicted: ['fill', 'array']\n",
            "\t(0.000731) predicted: ['wait', 'for', 'completion']\n",
            "Attention:\n",
            "0.411918\tcontext: arr,(NameExpr0)^(ArrayAccessExpr)^(BinaryExpr:greater)_(ArrayAccessExpr1)_(BinaryExpr:plus)_(NameExpr0),j\n",
            "0.231893\tcontext: j,(NameExpr0)^(UnaryExpr:posIncrement)^(ForStmt)_(BlockStmt)_(IfStmt)_(BinaryExpr:greater)_(ArrayAccessExpr1)_(BinaryExpr:plus)_(NameExpr0),j\n",
            "0.159408\tcontext: arr,(NameExpr0)^(ArrayAccessExpr)^(BinaryExpr:greater)_(ArrayAccessExpr1)_(BinaryExpr:plus)_(IntegerLiteralExpr1),1\n",
            "0.041400\tcontext: [],(ArrayBracketPair2)^(Parameter)^(MethodDeclaration)_(BlockStmt)_(ForStmt)_(BinaryExpr:less)_(BinaryExpr:minus)_(IntegerLiteralExpr1),1\n",
            "0.024614\tcontext: [],(ArrayBracketPair2)^(Parameter)^(MethodDeclaration)_(BlockStmt)_(ForStmt)_(BinaryExpr:less)_(BinaryExpr:minus)_(NameExpr0),n\n",
            "0.023234\tcontext: 0,(IntegerLiteralExpr1)^(VariableDeclarator)^(VariableDeclarationExpr)^(ForStmt)_(BlockStmt)_(ForStmt)_(BinaryExpr:less)_(BinaryExpr:minus)_(IntegerLiteralExpr1),1\n",
            "0.011933\tcontext: 0,(IntegerLiteralExpr1)^(VariableDeclarator)^(VariableDeclarationExpr)^(ForStmt)_(BlockStmt)_(IfStmt)_(BinaryExpr:greater)_(ArrayAccessExpr1)_(NameExpr0),arr\n",
            "0.010151\tcontext: arr,(NameExpr0)^(ArrayAccessExpr)^(BinaryExpr:greater)^(IfStmt)_(BlockStmt)_(ExpressionStmt)_(VariableDeclarationExpr)_(PrimitiveType0),int\n",
            "0.009958\tcontext: i,(NameExpr0)^(UnaryExpr:posIncrement)^(ForStmt)_(BlockStmt)_(ForStmt)_(BinaryExpr:less)_(BinaryExpr:minus)_(IntegerLiteralExpr1),1\n",
            "0.009675\tcontext: n,(NameExpr0)^(BinaryExpr:minus)^(BinaryExpr:minus)_(IntegerLiteralExpr1),1\n",
            "Code vector:\n",
            "0.2585543 0.018499821 0.6259956 -0.91153747 0.28625304 -0.20867313 -0.6456262 -0.5417256 0.40780866 0.6872428 0.48593658 0.8046063 -0.058023423 0.9426887 0.50868416 -0.7689812 -0.048711807 0.8145132 0.90576255 -0.4059241 -0.74391127 0.48965168 0.8245069 -0.828656 -0.18502949 0.7901077 0.8317792 0.05958824 -0.41710785 -0.36823994 -0.8146068 0.96380293 -0.3221373 -0.09550524 0.23637187 -0.7828237 0.41440326 0.85837746 0.7160746 0.42710906 0.86026746 0.3378421 -0.70190024 0.7926471 0.056065813 -0.13136554 0.3117843 0.95096815 0.7354833 -0.82368445 -0.8954565 0.9326848 -0.3107828 0.9633174 0.72925025 0.47538608 -0.15830268 -0.26773548 -0.3451479 0.9110292 -0.9704323 0.89245063 -0.36032683 -0.8097078 0.75253177 -0.4276203 -0.794744 -0.82304156 -0.6887814 0.710863 0.56362087 -0.6238218 -0.8751205 -0.3165001 0.6918507 -0.1842415 -0.45120537 0.29107818 -0.5739533 0.73044753 0.3992608 -0.922578 0.988397 0.2824617 -0.8427991 0.38545176 0.4091736 -0.80609953 -0.5241765 -0.632769 -0.33627385 -0.59111744 0.7637336 -0.69234073 0.79987144 -0.67139256 0.52384675 0.8215902 0.26926327 0.39738202 0.7637237 0.908195 -0.06851485 0.45429832 0.45621157 -0.44760495 -0.83066213 0.660655 -0.8885989 0.9643333 0.91159624 -0.19610572 -0.6570193 0.9189955 0.6287755 0.6763586 0.57360035 0.8044622 0.15594709 0.86987257 0.74620265 0.12886605 -0.571202 -0.5838734 -0.86150956 -0.14513662 0.40013415 -0.8301816 -0.51929915 -0.030817315 -0.7183518 0.8380968 0.8911851 0.24828035 0.32295215 -0.71240085 0.09927705 0.6977972 -0.36181659 0.15715513 -0.37333328 -0.31196588 0.38934436 -0.92469656 -0.69620156 0.3070417 0.75838226 0.6762587 0.95085883 -0.17747968 0.8302594 -0.7904814 0.009289354 -0.6270039 0.70603025 -0.86139053 0.4391611 -0.49321458 0.11893147 0.35378498 -0.26304317 0.82954895 -0.7937252 -0.8962824 0.014315069 0.94419086 0.31369257 0.8396486 -0.90516067 -0.8517296 0.5741993 0.09025121 0.32149994 -0.407448 -0.8138652 -0.94876003 -0.90316546 0.04230091 0.88919353 0.862079 -0.8170335 -0.2836635 0.29817367 0.4657278 -0.8624352 -0.2972049 0.89199436 0.7192866 0.13736606 -0.45771334 0.42584896 -0.8733409 -0.5144834 0.8192859 -0.30608574 -0.7988642 0.8505364 0.2875224 -0.50170493 -0.52384514 -0.80618596 0.6278152 -0.3438828 0.76336145 -0.75226545 -0.8722351 -0.52575326 -0.14364785 -0.31351382 0.8801849 -0.7223246 -0.3271227 0.33801383 0.3105849 -0.7285458 0.8984863 0.5779065 0.8268541 -0.6937938 -0.98829794 0.21864174 0.81059694 -0.8732749 -0.7421322 -0.9170898 0.9027747 0.82607317 0.3975584 0.9220383 -0.28386205 0.4383269 0.67996085 0.4448021 -0.6450141 -0.9438198 0.86594975 -0.3293671 -0.2583968 -0.578713 0.7339607 0.9436058 -0.7429227 0.19106603 0.50790286 0.2600407 -0.90505517 0.44768518 0.26051855 -0.28993964 -0.7989353 -0.7382976 -0.18344407 -0.92704785 -0.7546607 0.7690079 -0.24674131 0.2615453 0.5772341 -0.748982 0.5510926 0.8089032 0.40525544 -0.76406324 0.3939547 0.79505825 0.5367366 -0.70995283 -0.4599514 -0.2620981 -0.6711366 0.63875073 -0.44605744 0.89179 0.8342139 -0.7565692 -0.78562224 0.7342141 0.8891383 -0.090930864 -0.49500078 0.8654859 -0.13922471 -0.49759448 -0.18394092 -0.87766623 -0.7410369 0.10621585 0.5244047 0.37844017 0.024058223 0.78752095 0.3618247 0.80900633 -0.47821358 0.7984024 -0.9058888 -0.8554216 -0.9068364 -0.35494846 -0.84319997 -0.6036904 0.9042927 0.091635376 -0.11074327 -0.025732026 0.6881312 -0.590453 0.29746282 -0.81246763 -0.60796344 -0.68722814 0.85283047 0.08159642 -0.8570137 -0.85794216 0.67010206 -0.41879058 0.44067448 0.8596295 0.43799293 -0.7416377 0.9268815 -0.1297234 0.23661724 0.48412475 0.67597175 0.9079261 -0.52665836 0.9106679 -0.102124974 -0.15129551 -0.10762298 -0.82400084 0.53838515 0.8150033 -0.63103 -0.043885425 0.0879776 0.42031255 0.8096905 -0.8219237 -0.8045856 0.57258767 0.6340139 -0.08463316 -0.7049768 0.8687426 0.46703827 -0.70616174 0.7590643 0.6358374 0.7428731 0.86755216 0.7167369 0.88154966 0.5573708 0.7230853 0.8245705 0.9620808 -0.3535139 0.981297 -0.30206078 0.80207324 0.20489988 0.77773166 0.85460097 -0.8102501 -0.556245 0.8425517 0.26068026 -0.58346665 -0.944479 -0.10337639 0.8890872 0.764282 -0.13533656 -0.90390754 0.3122697 -0.7101809 -0.45474708 -0.6176752 -0.90628725 -0.50176287 -0.6154723\n",
            "Modify the file: \"Input.java\" and press any key when ready, or \"q\" / \"quit\" / \"exit\" to exit\n",
            "\n",
            "Original name:\tbubble|sort\n",
            "\t(0.945059) predicted: ['bubble', 'sort']\n",
            "\t(0.032873) predicted: ['sort']\n",
            "\t(0.007062) predicted: ['real', 'run']\n",
            "\t(0.005401) predicted: ['check', 'sorted']\n",
            "\t(0.002470) predicted: ['deep', 'equals']\n",
            "\t(0.002334) predicted: ['edit', 'distance']\n",
            "\t(0.001619) predicted: ['get', 'points']\n",
            "\t(0.001318) predicted: ['m']\n",
            "\t(0.001132) predicted: ['fill', 'array']\n",
            "\t(0.000731) predicted: ['wait', 'for', 'completion']\n",
            "Attention:\n",
            "0.411918\tcontext: arr,(NameExpr0)^(ArrayAccessExpr)^(BinaryExpr:greater)_(ArrayAccessExpr1)_(BinaryExpr:plus)_(NameExpr0),j\n",
            "0.231893\tcontext: j,(NameExpr0)^(UnaryExpr:posIncrement)^(ForStmt)_(BlockStmt)_(IfStmt)_(BinaryExpr:greater)_(ArrayAccessExpr1)_(BinaryExpr:plus)_(NameExpr0),j\n",
            "0.159408\tcontext: arr,(NameExpr0)^(ArrayAccessExpr)^(BinaryExpr:greater)_(ArrayAccessExpr1)_(BinaryExpr:plus)_(IntegerLiteralExpr1),1\n",
            "0.041400\tcontext: [],(ArrayBracketPair2)^(Parameter)^(MethodDeclaration)_(BlockStmt)_(ForStmt)_(BinaryExpr:less)_(BinaryExpr:minus)_(IntegerLiteralExpr1),1\n",
            "0.024614\tcontext: [],(ArrayBracketPair2)^(Parameter)^(MethodDeclaration)_(BlockStmt)_(ForStmt)_(BinaryExpr:less)_(BinaryExpr:minus)_(NameExpr0),n\n",
            "0.023234\tcontext: 0,(IntegerLiteralExpr1)^(VariableDeclarator)^(VariableDeclarationExpr)^(ForStmt)_(BlockStmt)_(ForStmt)_(BinaryExpr:less)_(BinaryExpr:minus)_(IntegerLiteralExpr1),1\n",
            "0.011933\tcontext: 0,(IntegerLiteralExpr1)^(VariableDeclarator)^(VariableDeclarationExpr)^(ForStmt)_(BlockStmt)_(IfStmt)_(BinaryExpr:greater)_(ArrayAccessExpr1)_(NameExpr0),arr\n",
            "0.010151\tcontext: arr,(NameExpr0)^(ArrayAccessExpr)^(BinaryExpr:greater)^(IfStmt)_(BlockStmt)_(ExpressionStmt)_(VariableDeclarationExpr)_(PrimitiveType0),int\n",
            "0.009958\tcontext: i,(NameExpr0)^(UnaryExpr:posIncrement)^(ForStmt)_(BlockStmt)_(ForStmt)_(BinaryExpr:less)_(BinaryExpr:minus)_(IntegerLiteralExpr1),1\n",
            "0.009675\tcontext: n,(NameExpr0)^(BinaryExpr:minus)^(BinaryExpr:minus)_(IntegerLiteralExpr1),1\n",
            "Code vector:\n",
            "0.2585543 0.018499821 0.6259956 -0.91153747 0.28625304 -0.20867313 -0.6456262 -0.5417256 0.40780866 0.6872428 0.48593658 0.8046063 -0.058023423 0.9426887 0.50868416 -0.7689812 -0.048711807 0.8145132 0.90576255 -0.4059241 -0.74391127 0.48965168 0.8245069 -0.828656 -0.18502949 0.7901077 0.8317792 0.05958824 -0.41710785 -0.36823994 -0.8146068 0.96380293 -0.3221373 -0.09550524 0.23637187 -0.7828237 0.41440326 0.85837746 0.7160746 0.42710906 0.86026746 0.3378421 -0.70190024 0.7926471 0.056065813 -0.13136554 0.3117843 0.95096815 0.7354833 -0.82368445 -0.8954565 0.9326848 -0.3107828 0.9633174 0.72925025 0.47538608 -0.15830268 -0.26773548 -0.3451479 0.9110292 -0.9704323 0.89245063 -0.36032683 -0.8097078 0.75253177 -0.4276203 -0.794744 -0.82304156 -0.6887814 0.710863 0.56362087 -0.6238218 -0.8751205 -0.3165001 0.6918507 -0.1842415 -0.45120537 0.29107818 -0.5739533 0.73044753 0.3992608 -0.922578 0.988397 0.2824617 -0.8427991 0.38545176 0.4091736 -0.80609953 -0.5241765 -0.632769 -0.33627385 -0.59111744 0.7637336 -0.69234073 0.79987144 -0.67139256 0.52384675 0.8215902 0.26926327 0.39738202 0.7637237 0.908195 -0.06851485 0.45429832 0.45621157 -0.44760495 -0.83066213 0.660655 -0.8885989 0.9643333 0.91159624 -0.19610572 -0.6570193 0.9189955 0.6287755 0.6763586 0.57360035 0.8044622 0.15594709 0.86987257 0.74620265 0.12886605 -0.571202 -0.5838734 -0.86150956 -0.14513662 0.40013415 -0.8301816 -0.51929915 -0.030817315 -0.7183518 0.8380968 0.8911851 0.24828035 0.32295215 -0.71240085 0.09927705 0.6977972 -0.36181659 0.15715513 -0.37333328 -0.31196588 0.38934436 -0.92469656 -0.69620156 0.3070417 0.75838226 0.6762587 0.95085883 -0.17747968 0.8302594 -0.7904814 0.009289354 -0.6270039 0.70603025 -0.86139053 0.4391611 -0.49321458 0.11893147 0.35378498 -0.26304317 0.82954895 -0.7937252 -0.8962824 0.014315069 0.94419086 0.31369257 0.8396486 -0.90516067 -0.8517296 0.5741993 0.09025121 0.32149994 -0.407448 -0.8138652 -0.94876003 -0.90316546 0.04230091 0.88919353 0.862079 -0.8170335 -0.2836635 0.29817367 0.4657278 -0.8624352 -0.2972049 0.89199436 0.7192866 0.13736606 -0.45771334 0.42584896 -0.8733409 -0.5144834 0.8192859 -0.30608574 -0.7988642 0.8505364 0.2875224 -0.50170493 -0.52384514 -0.80618596 0.6278152 -0.3438828 0.76336145 -0.75226545 -0.8722351 -0.52575326 -0.14364785 -0.31351382 0.8801849 -0.7223246 -0.3271227 0.33801383 0.3105849 -0.7285458 0.8984863 0.5779065 0.8268541 -0.6937938 -0.98829794 0.21864174 0.81059694 -0.8732749 -0.7421322 -0.9170898 0.9027747 0.82607317 0.3975584 0.9220383 -0.28386205 0.4383269 0.67996085 0.4448021 -0.6450141 -0.9438198 0.86594975 -0.3293671 -0.2583968 -0.578713 0.7339607 0.9436058 -0.7429227 0.19106603 0.50790286 0.2600407 -0.90505517 0.44768518 0.26051855 -0.28993964 -0.7989353 -0.7382976 -0.18344407 -0.92704785 -0.7546607 0.7690079 -0.24674131 0.2615453 0.5772341 -0.748982 0.5510926 0.8089032 0.40525544 -0.76406324 0.3939547 0.79505825 0.5367366 -0.70995283 -0.4599514 -0.2620981 -0.6711366 0.63875073 -0.44605744 0.89179 0.8342139 -0.7565692 -0.78562224 0.7342141 0.8891383 -0.090930864 -0.49500078 0.8654859 -0.13922471 -0.49759448 -0.18394092 -0.87766623 -0.7410369 0.10621585 0.5244047 0.37844017 0.024058223 0.78752095 0.3618247 0.80900633 -0.47821358 0.7984024 -0.9058888 -0.8554216 -0.9068364 -0.35494846 -0.84319997 -0.6036904 0.9042927 0.091635376 -0.11074327 -0.025732026 0.6881312 -0.590453 0.29746282 -0.81246763 -0.60796344 -0.68722814 0.85283047 0.08159642 -0.8570137 -0.85794216 0.67010206 -0.41879058 0.44067448 0.8596295 0.43799293 -0.7416377 0.9268815 -0.1297234 0.23661724 0.48412475 0.67597175 0.9079261 -0.52665836 0.9106679 -0.102124974 -0.15129551 -0.10762298 -0.82400084 0.53838515 0.8150033 -0.63103 -0.043885425 0.0879776 0.42031255 0.8096905 -0.8219237 -0.8045856 0.57258767 0.6340139 -0.08463316 -0.7049768 0.8687426 0.46703827 -0.70616174 0.7590643 0.6358374 0.7428731 0.86755216 0.7167369 0.88154966 0.5573708 0.7230853 0.8245705 0.9620808 -0.3535139 0.981297 -0.30206078 0.80207324 0.20489988 0.77773166 0.85460097 -0.8102501 -0.556245 0.8425517 0.26068026 -0.58346665 -0.944479 -0.10337639 0.8890872 0.764282 -0.13533656 -0.90390754 0.3122697 -0.7101809 -0.45474708 -0.6176752 -0.90628725 -0.50176287 -0.6154723\n",
            "Modify the file: \"Input.java\" and press any key when ready, or \"q\" / \"quit\" / \"exit\" to exit\n",
            "\n",
            "Original name:\tbubble|sort\n",
            "\t(0.945059) predicted: ['bubble', 'sort']\n",
            "\t(0.032873) predicted: ['sort']\n",
            "\t(0.007062) predicted: ['real', 'run']\n",
            "\t(0.005401) predicted: ['check', 'sorted']\n",
            "\t(0.002470) predicted: ['deep', 'equals']\n",
            "\t(0.002334) predicted: ['edit', 'distance']\n",
            "\t(0.001619) predicted: ['get', 'points']\n",
            "\t(0.001318) predicted: ['m']\n",
            "\t(0.001132) predicted: ['fill', 'array']\n",
            "\t(0.000731) predicted: ['wait', 'for', 'completion']\n",
            "Attention:\n",
            "0.411918\tcontext: arr,(NameExpr0)^(ArrayAccessExpr)^(BinaryExpr:greater)_(ArrayAccessExpr1)_(BinaryExpr:plus)_(NameExpr0),j\n",
            "0.231893\tcontext: j,(NameExpr0)^(UnaryExpr:posIncrement)^(ForStmt)_(BlockStmt)_(IfStmt)_(BinaryExpr:greater)_(ArrayAccessExpr1)_(BinaryExpr:plus)_(NameExpr0),j\n",
            "0.159408\tcontext: arr,(NameExpr0)^(ArrayAccessExpr)^(BinaryExpr:greater)_(ArrayAccessExpr1)_(BinaryExpr:plus)_(IntegerLiteralExpr1),1\n",
            "0.041400\tcontext: [],(ArrayBracketPair2)^(Parameter)^(MethodDeclaration)_(BlockStmt)_(ForStmt)_(BinaryExpr:less)_(BinaryExpr:minus)_(IntegerLiteralExpr1),1\n",
            "0.024614\tcontext: [],(ArrayBracketPair2)^(Parameter)^(MethodDeclaration)_(BlockStmt)_(ForStmt)_(BinaryExpr:less)_(BinaryExpr:minus)_(NameExpr0),n\n",
            "0.023234\tcontext: 0,(IntegerLiteralExpr1)^(VariableDeclarator)^(VariableDeclarationExpr)^(ForStmt)_(BlockStmt)_(ForStmt)_(BinaryExpr:less)_(BinaryExpr:minus)_(IntegerLiteralExpr1),1\n",
            "0.011933\tcontext: 0,(IntegerLiteralExpr1)^(VariableDeclarator)^(VariableDeclarationExpr)^(ForStmt)_(BlockStmt)_(IfStmt)_(BinaryExpr:greater)_(ArrayAccessExpr1)_(NameExpr0),arr\n",
            "0.010151\tcontext: arr,(NameExpr0)^(ArrayAccessExpr)^(BinaryExpr:greater)^(IfStmt)_(BlockStmt)_(ExpressionStmt)_(VariableDeclarationExpr)_(PrimitiveType0),int\n",
            "0.009958\tcontext: i,(NameExpr0)^(UnaryExpr:posIncrement)^(ForStmt)_(BlockStmt)_(ForStmt)_(BinaryExpr:less)_(BinaryExpr:minus)_(IntegerLiteralExpr1),1\n",
            "0.009675\tcontext: n,(NameExpr0)^(BinaryExpr:minus)^(BinaryExpr:minus)_(IntegerLiteralExpr1),1\n",
            "Code vector:\n",
            "0.2585543 0.018499821 0.6259956 -0.91153747 0.28625304 -0.20867313 -0.6456262 -0.5417256 0.40780866 0.6872428 0.48593658 0.8046063 -0.058023423 0.9426887 0.50868416 -0.7689812 -0.048711807 0.8145132 0.90576255 -0.4059241 -0.74391127 0.48965168 0.8245069 -0.828656 -0.18502949 0.7901077 0.8317792 0.05958824 -0.41710785 -0.36823994 -0.8146068 0.96380293 -0.3221373 -0.09550524 0.23637187 -0.7828237 0.41440326 0.85837746 0.7160746 0.42710906 0.86026746 0.3378421 -0.70190024 0.7926471 0.056065813 -0.13136554 0.3117843 0.95096815 0.7354833 -0.82368445 -0.8954565 0.9326848 -0.3107828 0.9633174 0.72925025 0.47538608 -0.15830268 -0.26773548 -0.3451479 0.9110292 -0.9704323 0.89245063 -0.36032683 -0.8097078 0.75253177 -0.4276203 -0.794744 -0.82304156 -0.6887814 0.710863 0.56362087 -0.6238218 -0.8751205 -0.3165001 0.6918507 -0.1842415 -0.45120537 0.29107818 -0.5739533 0.73044753 0.3992608 -0.922578 0.988397 0.2824617 -0.8427991 0.38545176 0.4091736 -0.80609953 -0.5241765 -0.632769 -0.33627385 -0.59111744 0.7637336 -0.69234073 0.79987144 -0.67139256 0.52384675 0.8215902 0.26926327 0.39738202 0.7637237 0.908195 -0.06851485 0.45429832 0.45621157 -0.44760495 -0.83066213 0.660655 -0.8885989 0.9643333 0.91159624 -0.19610572 -0.6570193 0.9189955 0.6287755 0.6763586 0.57360035 0.8044622 0.15594709 0.86987257 0.74620265 0.12886605 -0.571202 -0.5838734 -0.86150956 -0.14513662 0.40013415 -0.8301816 -0.51929915 -0.030817315 -0.7183518 0.8380968 0.8911851 0.24828035 0.32295215 -0.71240085 0.09927705 0.6977972 -0.36181659 0.15715513 -0.37333328 -0.31196588 0.38934436 -0.92469656 -0.69620156 0.3070417 0.75838226 0.6762587 0.95085883 -0.17747968 0.8302594 -0.7904814 0.009289354 -0.6270039 0.70603025 -0.86139053 0.4391611 -0.49321458 0.11893147 0.35378498 -0.26304317 0.82954895 -0.7937252 -0.8962824 0.014315069 0.94419086 0.31369257 0.8396486 -0.90516067 -0.8517296 0.5741993 0.09025121 0.32149994 -0.407448 -0.8138652 -0.94876003 -0.90316546 0.04230091 0.88919353 0.862079 -0.8170335 -0.2836635 0.29817367 0.4657278 -0.8624352 -0.2972049 0.89199436 0.7192866 0.13736606 -0.45771334 0.42584896 -0.8733409 -0.5144834 0.8192859 -0.30608574 -0.7988642 0.8505364 0.2875224 -0.50170493 -0.52384514 -0.80618596 0.6278152 -0.3438828 0.76336145 -0.75226545 -0.8722351 -0.52575326 -0.14364785 -0.31351382 0.8801849 -0.7223246 -0.3271227 0.33801383 0.3105849 -0.7285458 0.8984863 0.5779065 0.8268541 -0.6937938 -0.98829794 0.21864174 0.81059694 -0.8732749 -0.7421322 -0.9170898 0.9027747 0.82607317 0.3975584 0.9220383 -0.28386205 0.4383269 0.67996085 0.4448021 -0.6450141 -0.9438198 0.86594975 -0.3293671 -0.2583968 -0.578713 0.7339607 0.9436058 -0.7429227 0.19106603 0.50790286 0.2600407 -0.90505517 0.44768518 0.26051855 -0.28993964 -0.7989353 -0.7382976 -0.18344407 -0.92704785 -0.7546607 0.7690079 -0.24674131 0.2615453 0.5772341 -0.748982 0.5510926 0.8089032 0.40525544 -0.76406324 0.3939547 0.79505825 0.5367366 -0.70995283 -0.4599514 -0.2620981 -0.6711366 0.63875073 -0.44605744 0.89179 0.8342139 -0.7565692 -0.78562224 0.7342141 0.8891383 -0.090930864 -0.49500078 0.8654859 -0.13922471 -0.49759448 -0.18394092 -0.87766623 -0.7410369 0.10621585 0.5244047 0.37844017 0.024058223 0.78752095 0.3618247 0.80900633 -0.47821358 0.7984024 -0.9058888 -0.8554216 -0.9068364 -0.35494846 -0.84319997 -0.6036904 0.9042927 0.091635376 -0.11074327 -0.025732026 0.6881312 -0.590453 0.29746282 -0.81246763 -0.60796344 -0.68722814 0.85283047 0.08159642 -0.8570137 -0.85794216 0.67010206 -0.41879058 0.44067448 0.8596295 0.43799293 -0.7416377 0.9268815 -0.1297234 0.23661724 0.48412475 0.67597175 0.9079261 -0.52665836 0.9106679 -0.102124974 -0.15129551 -0.10762298 -0.82400084 0.53838515 0.8150033 -0.63103 -0.043885425 0.0879776 0.42031255 0.8096905 -0.8219237 -0.8045856 0.57258767 0.6340139 -0.08463316 -0.7049768 0.8687426 0.46703827 -0.70616174 0.7590643 0.6358374 0.7428731 0.86755216 0.7167369 0.88154966 0.5573708 0.7230853 0.8245705 0.9620808 -0.3535139 0.981297 -0.30206078 0.80207324 0.20489988 0.77773166 0.85460097 -0.8102501 -0.556245 0.8425517 0.26068026 -0.58346665 -0.944479 -0.10337639 0.8890872 0.764282 -0.13533656 -0.90390754 0.3122697 -0.7101809 -0.45474708 -0.6176752 -0.90628725 -0.50176287 -0.6154723\n",
            "Modify the file: \"Input.java\" and press any key when ready, or \"q\" / \"quit\" / \"exit\" to exit\n",
            "\n",
            "Original name:\tbubble|sort\n",
            "\t(0.945059) predicted: ['bubble', 'sort']\n",
            "\t(0.032873) predicted: ['sort']\n",
            "\t(0.007062) predicted: ['real', 'run']\n",
            "\t(0.005401) predicted: ['check', 'sorted']\n",
            "\t(0.002470) predicted: ['deep', 'equals']\n",
            "\t(0.002334) predicted: ['edit', 'distance']\n",
            "\t(0.001619) predicted: ['get', 'points']\n",
            "\t(0.001318) predicted: ['m']\n",
            "\t(0.001132) predicted: ['fill', 'array']\n",
            "\t(0.000731) predicted: ['wait', 'for', 'completion']\n",
            "Attention:\n",
            "0.411918\tcontext: arr,(NameExpr0)^(ArrayAccessExpr)^(BinaryExpr:greater)_(ArrayAccessExpr1)_(BinaryExpr:plus)_(NameExpr0),j\n",
            "0.231893\tcontext: j,(NameExpr0)^(UnaryExpr:posIncrement)^(ForStmt)_(BlockStmt)_(IfStmt)_(BinaryExpr:greater)_(ArrayAccessExpr1)_(BinaryExpr:plus)_(NameExpr0),j\n",
            "0.159408\tcontext: arr,(NameExpr0)^(ArrayAccessExpr)^(BinaryExpr:greater)_(ArrayAccessExpr1)_(BinaryExpr:plus)_(IntegerLiteralExpr1),1\n",
            "0.041400\tcontext: [],(ArrayBracketPair2)^(Parameter)^(MethodDeclaration)_(BlockStmt)_(ForStmt)_(BinaryExpr:less)_(BinaryExpr:minus)_(IntegerLiteralExpr1),1\n",
            "0.024614\tcontext: [],(ArrayBracketPair2)^(Parameter)^(MethodDeclaration)_(BlockStmt)_(ForStmt)_(BinaryExpr:less)_(BinaryExpr:minus)_(NameExpr0),n\n",
            "0.023234\tcontext: 0,(IntegerLiteralExpr1)^(VariableDeclarator)^(VariableDeclarationExpr)^(ForStmt)_(BlockStmt)_(ForStmt)_(BinaryExpr:less)_(BinaryExpr:minus)_(IntegerLiteralExpr1),1\n",
            "0.011933\tcontext: 0,(IntegerLiteralExpr1)^(VariableDeclarator)^(VariableDeclarationExpr)^(ForStmt)_(BlockStmt)_(IfStmt)_(BinaryExpr:greater)_(ArrayAccessExpr1)_(NameExpr0),arr\n",
            "0.010151\tcontext: arr,(NameExpr0)^(ArrayAccessExpr)^(BinaryExpr:greater)^(IfStmt)_(BlockStmt)_(ExpressionStmt)_(VariableDeclarationExpr)_(PrimitiveType0),int\n",
            "0.009958\tcontext: i,(NameExpr0)^(UnaryExpr:posIncrement)^(ForStmt)_(BlockStmt)_(ForStmt)_(BinaryExpr:less)_(BinaryExpr:minus)_(IntegerLiteralExpr1),1\n",
            "0.009675\tcontext: n,(NameExpr0)^(BinaryExpr:minus)^(BinaryExpr:minus)_(IntegerLiteralExpr1),1\n",
            "Code vector:\n",
            "0.2585543 0.018499821 0.6259956 -0.91153747 0.28625304 -0.20867313 -0.6456262 -0.5417256 0.40780866 0.6872428 0.48593658 0.8046063 -0.058023423 0.9426887 0.50868416 -0.7689812 -0.048711807 0.8145132 0.90576255 -0.4059241 -0.74391127 0.48965168 0.8245069 -0.828656 -0.18502949 0.7901077 0.8317792 0.05958824 -0.41710785 -0.36823994 -0.8146068 0.96380293 -0.3221373 -0.09550524 0.23637187 -0.7828237 0.41440326 0.85837746 0.7160746 0.42710906 0.86026746 0.3378421 -0.70190024 0.7926471 0.056065813 -0.13136554 0.3117843 0.95096815 0.7354833 -0.82368445 -0.8954565 0.9326848 -0.3107828 0.9633174 0.72925025 0.47538608 -0.15830268 -0.26773548 -0.3451479 0.9110292 -0.9704323 0.89245063 -0.36032683 -0.8097078 0.75253177 -0.4276203 -0.794744 -0.82304156 -0.6887814 0.710863 0.56362087 -0.6238218 -0.8751205 -0.3165001 0.6918507 -0.1842415 -0.45120537 0.29107818 -0.5739533 0.73044753 0.3992608 -0.922578 0.988397 0.2824617 -0.8427991 0.38545176 0.4091736 -0.80609953 -0.5241765 -0.632769 -0.33627385 -0.59111744 0.7637336 -0.69234073 0.79987144 -0.67139256 0.52384675 0.8215902 0.26926327 0.39738202 0.7637237 0.908195 -0.06851485 0.45429832 0.45621157 -0.44760495 -0.83066213 0.660655 -0.8885989 0.9643333 0.91159624 -0.19610572 -0.6570193 0.9189955 0.6287755 0.6763586 0.57360035 0.8044622 0.15594709 0.86987257 0.74620265 0.12886605 -0.571202 -0.5838734 -0.86150956 -0.14513662 0.40013415 -0.8301816 -0.51929915 -0.030817315 -0.7183518 0.8380968 0.8911851 0.24828035 0.32295215 -0.71240085 0.09927705 0.6977972 -0.36181659 0.15715513 -0.37333328 -0.31196588 0.38934436 -0.92469656 -0.69620156 0.3070417 0.75838226 0.6762587 0.95085883 -0.17747968 0.8302594 -0.7904814 0.009289354 -0.6270039 0.70603025 -0.86139053 0.4391611 -0.49321458 0.11893147 0.35378498 -0.26304317 0.82954895 -0.7937252 -0.8962824 0.014315069 0.94419086 0.31369257 0.8396486 -0.90516067 -0.8517296 0.5741993 0.09025121 0.32149994 -0.407448 -0.8138652 -0.94876003 -0.90316546 0.04230091 0.88919353 0.862079 -0.8170335 -0.2836635 0.29817367 0.4657278 -0.8624352 -0.2972049 0.89199436 0.7192866 0.13736606 -0.45771334 0.42584896 -0.8733409 -0.5144834 0.8192859 -0.30608574 -0.7988642 0.8505364 0.2875224 -0.50170493 -0.52384514 -0.80618596 0.6278152 -0.3438828 0.76336145 -0.75226545 -0.8722351 -0.52575326 -0.14364785 -0.31351382 0.8801849 -0.7223246 -0.3271227 0.33801383 0.3105849 -0.7285458 0.8984863 0.5779065 0.8268541 -0.6937938 -0.98829794 0.21864174 0.81059694 -0.8732749 -0.7421322 -0.9170898 0.9027747 0.82607317 0.3975584 0.9220383 -0.28386205 0.4383269 0.67996085 0.4448021 -0.6450141 -0.9438198 0.86594975 -0.3293671 -0.2583968 -0.578713 0.7339607 0.9436058 -0.7429227 0.19106603 0.50790286 0.2600407 -0.90505517 0.44768518 0.26051855 -0.28993964 -0.7989353 -0.7382976 -0.18344407 -0.92704785 -0.7546607 0.7690079 -0.24674131 0.2615453 0.5772341 -0.748982 0.5510926 0.8089032 0.40525544 -0.76406324 0.3939547 0.79505825 0.5367366 -0.70995283 -0.4599514 -0.2620981 -0.6711366 0.63875073 -0.44605744 0.89179 0.8342139 -0.7565692 -0.78562224 0.7342141 0.8891383 -0.090930864 -0.49500078 0.8654859 -0.13922471 -0.49759448 -0.18394092 -0.87766623 -0.7410369 0.10621585 0.5244047 0.37844017 0.024058223 0.78752095 0.3618247 0.80900633 -0.47821358 0.7984024 -0.9058888 -0.8554216 -0.9068364 -0.35494846 -0.84319997 -0.6036904 0.9042927 0.091635376 -0.11074327 -0.025732026 0.6881312 -0.590453 0.29746282 -0.81246763 -0.60796344 -0.68722814 0.85283047 0.08159642 -0.8570137 -0.85794216 0.67010206 -0.41879058 0.44067448 0.8596295 0.43799293 -0.7416377 0.9268815 -0.1297234 0.23661724 0.48412475 0.67597175 0.9079261 -0.52665836 0.9106679 -0.102124974 -0.15129551 -0.10762298 -0.82400084 0.53838515 0.8150033 -0.63103 -0.043885425 0.0879776 0.42031255 0.8096905 -0.8219237 -0.8045856 0.57258767 0.6340139 -0.08463316 -0.7049768 0.8687426 0.46703827 -0.70616174 0.7590643 0.6358374 0.7428731 0.86755216 0.7167369 0.88154966 0.5573708 0.7230853 0.8245705 0.9620808 -0.3535139 0.981297 -0.30206078 0.80207324 0.20489988 0.77773166 0.85460097 -0.8102501 -0.556245 0.8425517 0.26068026 -0.58346665 -0.944479 -0.10337639 0.8890872 0.764282 -0.13533656 -0.90390754 0.3122697 -0.7101809 -0.45474708 -0.6176752 -0.90628725 -0.50176287 -0.6154723\n",
            "Modify the file: \"Input.java\" and press any key when ready, or \"q\" / \"quit\" / \"exit\" to exit\n",
            "\n",
            "Original name:\tbubble|sort\n",
            "\t(0.945059) predicted: ['bubble', 'sort']\n",
            "\t(0.032873) predicted: ['sort']\n",
            "\t(0.007062) predicted: ['real', 'run']\n",
            "\t(0.005401) predicted: ['check', 'sorted']\n",
            "\t(0.002470) predicted: ['deep', 'equals']\n",
            "\t(0.002334) predicted: ['edit', 'distance']\n",
            "\t(0.001619) predicted: ['get', 'points']\n",
            "\t(0.001318) predicted: ['m']\n",
            "\t(0.001132) predicted: ['fill', 'array']\n",
            "\t(0.000731) predicted: ['wait', 'for', 'completion']\n",
            "Attention:\n",
            "0.411918\tcontext: arr,(NameExpr0)^(ArrayAccessExpr)^(BinaryExpr:greater)_(ArrayAccessExpr1)_(BinaryExpr:plus)_(NameExpr0),j\n",
            "0.231893\tcontext: j,(NameExpr0)^(UnaryExpr:posIncrement)^(ForStmt)_(BlockStmt)_(IfStmt)_(BinaryExpr:greater)_(ArrayAccessExpr1)_(BinaryExpr:plus)_(NameExpr0),j\n",
            "0.159408\tcontext: arr,(NameExpr0)^(ArrayAccessExpr)^(BinaryExpr:greater)_(ArrayAccessExpr1)_(BinaryExpr:plus)_(IntegerLiteralExpr1),1\n",
            "0.041400\tcontext: [],(ArrayBracketPair2)^(Parameter)^(MethodDeclaration)_(BlockStmt)_(ForStmt)_(BinaryExpr:less)_(BinaryExpr:minus)_(IntegerLiteralExpr1),1\n",
            "0.024614\tcontext: [],(ArrayBracketPair2)^(Parameter)^(MethodDeclaration)_(BlockStmt)_(ForStmt)_(BinaryExpr:less)_(BinaryExpr:minus)_(NameExpr0),n\n",
            "0.023234\tcontext: 0,(IntegerLiteralExpr1)^(VariableDeclarator)^(VariableDeclarationExpr)^(ForStmt)_(BlockStmt)_(ForStmt)_(BinaryExpr:less)_(BinaryExpr:minus)_(IntegerLiteralExpr1),1\n",
            "0.011933\tcontext: 0,(IntegerLiteralExpr1)^(VariableDeclarator)^(VariableDeclarationExpr)^(ForStmt)_(BlockStmt)_(IfStmt)_(BinaryExpr:greater)_(ArrayAccessExpr1)_(NameExpr0),arr\n",
            "0.010151\tcontext: arr,(NameExpr0)^(ArrayAccessExpr)^(BinaryExpr:greater)^(IfStmt)_(BlockStmt)_(ExpressionStmt)_(VariableDeclarationExpr)_(PrimitiveType0),int\n",
            "0.009958\tcontext: i,(NameExpr0)^(UnaryExpr:posIncrement)^(ForStmt)_(BlockStmt)_(ForStmt)_(BinaryExpr:less)_(BinaryExpr:minus)_(IntegerLiteralExpr1),1\n",
            "0.009675\tcontext: n,(NameExpr0)^(BinaryExpr:minus)^(BinaryExpr:minus)_(IntegerLiteralExpr1),1\n",
            "Code vector:\n",
            "0.2585543 0.018499821 0.6259956 -0.91153747 0.28625304 -0.20867313 -0.6456262 -0.5417256 0.40780866 0.6872428 0.48593658 0.8046063 -0.058023423 0.9426887 0.50868416 -0.7689812 -0.048711807 0.8145132 0.90576255 -0.4059241 -0.74391127 0.48965168 0.8245069 -0.828656 -0.18502949 0.7901077 0.8317792 0.05958824 -0.41710785 -0.36823994 -0.8146068 0.96380293 -0.3221373 -0.09550524 0.23637187 -0.7828237 0.41440326 0.85837746 0.7160746 0.42710906 0.86026746 0.3378421 -0.70190024 0.7926471 0.056065813 -0.13136554 0.3117843 0.95096815 0.7354833 -0.82368445 -0.8954565 0.9326848 -0.3107828 0.9633174 0.72925025 0.47538608 -0.15830268 -0.26773548 -0.3451479 0.9110292 -0.9704323 0.89245063 -0.36032683 -0.8097078 0.75253177 -0.4276203 -0.794744 -0.82304156 -0.6887814 0.710863 0.56362087 -0.6238218 -0.8751205 -0.3165001 0.6918507 -0.1842415 -0.45120537 0.29107818 -0.5739533 0.73044753 0.3992608 -0.922578 0.988397 0.2824617 -0.8427991 0.38545176 0.4091736 -0.80609953 -0.5241765 -0.632769 -0.33627385 -0.59111744 0.7637336 -0.69234073 0.79987144 -0.67139256 0.52384675 0.8215902 0.26926327 0.39738202 0.7637237 0.908195 -0.06851485 0.45429832 0.45621157 -0.44760495 -0.83066213 0.660655 -0.8885989 0.9643333 0.91159624 -0.19610572 -0.6570193 0.9189955 0.6287755 0.6763586 0.57360035 0.8044622 0.15594709 0.86987257 0.74620265 0.12886605 -0.571202 -0.5838734 -0.86150956 -0.14513662 0.40013415 -0.8301816 -0.51929915 -0.030817315 -0.7183518 0.8380968 0.8911851 0.24828035 0.32295215 -0.71240085 0.09927705 0.6977972 -0.36181659 0.15715513 -0.37333328 -0.31196588 0.38934436 -0.92469656 -0.69620156 0.3070417 0.75838226 0.6762587 0.95085883 -0.17747968 0.8302594 -0.7904814 0.009289354 -0.6270039 0.70603025 -0.86139053 0.4391611 -0.49321458 0.11893147 0.35378498 -0.26304317 0.82954895 -0.7937252 -0.8962824 0.014315069 0.94419086 0.31369257 0.8396486 -0.90516067 -0.8517296 0.5741993 0.09025121 0.32149994 -0.407448 -0.8138652 -0.94876003 -0.90316546 0.04230091 0.88919353 0.862079 -0.8170335 -0.2836635 0.29817367 0.4657278 -0.8624352 -0.2972049 0.89199436 0.7192866 0.13736606 -0.45771334 0.42584896 -0.8733409 -0.5144834 0.8192859 -0.30608574 -0.7988642 0.8505364 0.2875224 -0.50170493 -0.52384514 -0.80618596 0.6278152 -0.3438828 0.76336145 -0.75226545 -0.8722351 -0.52575326 -0.14364785 -0.31351382 0.8801849 -0.7223246 -0.3271227 0.33801383 0.3105849 -0.7285458 0.8984863 0.5779065 0.8268541 -0.6937938 -0.98829794 0.21864174 0.81059694 -0.8732749 -0.7421322 -0.9170898 0.9027747 0.82607317 0.3975584 0.9220383 -0.28386205 0.4383269 0.67996085 0.4448021 -0.6450141 -0.9438198 0.86594975 -0.3293671 -0.2583968 -0.578713 0.7339607 0.9436058 -0.7429227 0.19106603 0.50790286 0.2600407 -0.90505517 0.44768518 0.26051855 -0.28993964 -0.7989353 -0.7382976 -0.18344407 -0.92704785 -0.7546607 0.7690079 -0.24674131 0.2615453 0.5772341 -0.748982 0.5510926 0.8089032 0.40525544 -0.76406324 0.3939547 0.79505825 0.5367366 -0.70995283 -0.4599514 -0.2620981 -0.6711366 0.63875073 -0.44605744 0.89179 0.8342139 -0.7565692 -0.78562224 0.7342141 0.8891383 -0.090930864 -0.49500078 0.8654859 -0.13922471 -0.49759448 -0.18394092 -0.87766623 -0.7410369 0.10621585 0.5244047 0.37844017 0.024058223 0.78752095 0.3618247 0.80900633 -0.47821358 0.7984024 -0.9058888 -0.8554216 -0.9068364 -0.35494846 -0.84319997 -0.6036904 0.9042927 0.091635376 -0.11074327 -0.025732026 0.6881312 -0.590453 0.29746282 -0.81246763 -0.60796344 -0.68722814 0.85283047 0.08159642 -0.8570137 -0.85794216 0.67010206 -0.41879058 0.44067448 0.8596295 0.43799293 -0.7416377 0.9268815 -0.1297234 0.23661724 0.48412475 0.67597175 0.9079261 -0.52665836 0.9106679 -0.102124974 -0.15129551 -0.10762298 -0.82400084 0.53838515 0.8150033 -0.63103 -0.043885425 0.0879776 0.42031255 0.8096905 -0.8219237 -0.8045856 0.57258767 0.6340139 -0.08463316 -0.7049768 0.8687426 0.46703827 -0.70616174 0.7590643 0.6358374 0.7428731 0.86755216 0.7167369 0.88154966 0.5573708 0.7230853 0.8245705 0.9620808 -0.3535139 0.981297 -0.30206078 0.80207324 0.20489988 0.77773166 0.85460097 -0.8102501 -0.556245 0.8425517 0.26068026 -0.58346665 -0.944479 -0.10337639 0.8890872 0.764282 -0.13533656 -0.90390754 0.3122697 -0.7101809 -0.45474708 -0.6176752 -0.90628725 -0.50176287 -0.6154723\n",
            "Modify the file: \"Input.java\" and press any key when ready, or \"q\" / \"quit\" / \"exit\" to exit\n"
          ]
        }
      ],
      "source": [
        "!python3 code2vec.py --load /content/models/java14_model/saved_model_iter8.release --predict --export_code_vectors"
      ]
    },
    {
      "cell_type": "markdown",
      "metadata": {
        "id": "PoMKY49_Jayu"
      },
      "source": [
        "6. We'll start creating code vectors of multiple code snippets."
      ]
    },
    {
      "cell_type": "code",
      "execution_count": null,
      "metadata": {
        "id": "ROlt3zOIM96L"
      },
      "outputs": [],
      "source": [
        "cv1 = '0.2585543 0.018499821 0.6259956 -0.91153747 0.28625304 -0.20867313 -0.6456262 -0.5417256 0.40780866 0.6872428 0.48593658 0.8046063 -0.058023423 0.9426887 0.50868416 -0.7689812 -0.048711807 0.8145132 0.90576255 -0.4059241 -0.74391127 0.48965168 0.8245069 -0.828656 -0.18502949 0.7901077 0.8317792 0.05958824 -0.41710785 -0.36823994 -0.8146068 0.96380293 -0.3221373 -0.09550524 0.23637187 -0.7828237 0.41440326 0.85837746 0.7160746 0.42710906 0.86026746 0.3378421 -0.70190024 0.7926471 0.056065813 -0.13136554 0.3117843 0.95096815 0.7354833 -0.82368445 -0.8954565 0.9326848 -0.3107828 0.9633174 0.72925025 0.47538608 -0.15830268 -0.26773548 -0.3451479 0.9110292 -0.9704323 0.89245063 -0.36032683 -0.8097078 0.75253177 -0.4276203 -0.794744 -0.82304156 -0.6887814 0.710863 0.56362087 -0.6238218 -0.8751205 -0.3165001 0.6918507 -0.1842415 -0.45120537 0.29107818 -0.5739533 0.73044753 0.3992608 -0.922578 0.988397 0.2824617 -0.8427991 0.38545176 0.4091736 -0.80609953 -0.5241765 -0.632769 -0.33627385 -0.59111744 0.7637336 -0.69234073 0.79987144 -0.67139256 0.52384675 0.8215902 0.26926327 0.39738202 0.7637237 0.908195 -0.06851485 0.45429832 0.45621157 -0.44760495 -0.83066213 0.660655 -0.8885989 0.9643333 0.91159624 -0.19610572 -0.6570193 0.9189955 0.6287755 0.6763586 0.57360035 0.8044622 0.15594709 0.86987257 0.74620265 0.12886605 -0.571202 -0.5838734 -0.86150956 -0.14513662 0.40013415 -0.8301816 -0.51929915 -0.030817315 -0.7183518 0.8380968 0.8911851 0.24828035 0.32295215 -0.71240085 0.09927705 0.6977972 -0.36181659 0.15715513 -0.37333328 -0.31196588 0.38934436 -0.92469656 -0.69620156 0.3070417 0.75838226 0.6762587 0.95085883 -0.17747968 0.8302594 -0.7904814 0.009289354 -0.6270039 0.70603025 -0.86139053 0.4391611 -0.49321458 0.11893147 0.35378498 -0.26304317 0.82954895 -0.7937252 -0.8962824 0.014315069 0.94419086 0.31369257 0.8396486 -0.90516067 -0.8517296 0.5741993 0.09025121 0.32149994 -0.407448 -0.8138652 -0.94876003 -0.90316546 0.04230091 0.88919353 0.862079 -0.8170335 -0.2836635 0.29817367 0.4657278 -0.8624352 -0.2972049 0.89199436 0.7192866 0.13736606 -0.45771334 0.42584896 -0.8733409 -0.5144834 0.8192859 -0.30608574 -0.7988642 0.8505364 0.2875224 -0.50170493 -0.52384514 -0.80618596 0.6278152 -0.3438828 0.76336145 -0.75226545 -0.8722351 -0.52575326 -0.14364785 -0.31351382 0.8801849 -0.7223246 -0.3271227 0.33801383 0.3105849 -0.7285458 0.8984863 0.5779065 0.8268541 -0.6937938 -0.98829794 0.21864174 0.81059694 -0.8732749 -0.7421322 -0.9170898 0.9027747 0.82607317 0.3975584 0.9220383 -0.28386205 0.4383269 0.67996085 0.4448021 -0.6450141 -0.9438198 0.86594975 -0.3293671 -0.2583968 -0.578713 0.7339607 0.9436058 -0.7429227 0.19106603 0.50790286 0.2600407 -0.90505517 0.44768518 0.26051855 -0.28993964 -0.7989353 -0.7382976 -0.18344407 -0.92704785 -0.7546607 0.7690079 -0.24674131 0.2615453 0.5772341 -0.748982 0.5510926 0.8089032 0.40525544 -0.76406324 0.3939547 0.79505825 0.5367366 -0.70995283 -0.4599514 -0.2620981 -0.6711366 0.63875073 -0.44605744 0.89179 0.8342139 -0.7565692 -0.78562224 0.7342141 0.8891383 -0.090930864 -0.49500078 0.8654859 -0.13922471 -0.49759448 -0.18394092 -0.87766623 -0.7410369 0.10621585 0.5244047 0.37844017 0.024058223 0.78752095 0.3618247 0.80900633 -0.47821358 0.7984024 -0.9058888 -0.8554216 -0.9068364 -0.35494846 -0.84319997 -0.6036904 0.9042927 0.091635376 -0.11074327 -0.025732026 0.6881312 -0.590453 0.29746282 -0.81246763 -0.60796344 -0.68722814 0.85283047 0.08159642 -0.8570137 -0.85794216 0.67010206 -0.41879058 0.44067448 0.8596295 0.43799293 -0.7416377 0.9268815 -0.1297234 0.23661724 0.48412475 0.67597175 0.9079261 -0.52665836 0.9106679 -0.102124974 -0.15129551 -0.10762298 -0.82400084 0.53838515 0.8150033 -0.63103 -0.043885425 0.0879776 0.42031255 0.8096905 -0.8219237 -0.8045856 0.57258767 0.6340139 -0.08463316 -0.7049768 0.8687426 0.46703827 -0.70616174 0.7590643 0.6358374 0.7428731 0.86755216 0.7167369 0.88154966 0.5573708 0.7230853 0.8245705 0.9620808 -0.3535139 0.981297 -0.30206078 0.80207324 0.20489988 0.77773166 0.85460097 -0.8102501 -0.556245 0.8425517 0.26068026 -0.58346665 -0.944479 -0.10337639 0.8890872 0.764282 -0.13533656 -0.90390754 0.3122697 -0.7101809 -0.45474708 -0.6176752 -0.90628725 -0.50176287 -0.6154723'.split(' ')\n",
        "cv2 = '0.25855392 0.018499404 0.6259956 -0.9115375 0.28625268 -0.20867285 -0.6456261 -0.54172575 0.40780848 0.68724275 0.4859367 0.80460626 -0.05802329 0.94268864 0.508684 -0.7689812 -0.048711687 0.8145132 0.90576243 -0.4059242 -0.74391127 0.4896515 0.8245068 -0.8286559 -0.18502961 0.7901078 0.8317791 0.05958821 -0.41710788 -0.36823985 -0.8146067 0.96380305 -0.32213682 -0.0955054 0.23637164 -0.78282356 0.41440326 0.85837764 0.71607447 0.42710876 0.86026734 0.33784208 -0.70190024 0.79264706 0.056065857 -0.13136534 0.3117841 0.95096815 0.7354833 -0.82368445 -0.89545643 0.9326848 -0.31078318 0.9633174 0.72925025 0.4753862 -0.15830249 -0.26773563 -0.34514803 0.91102946 -0.9704324 0.89245045 -0.36032677 -0.80970776 0.7525317 -0.42762035 -0.7947439 -0.8230416 -0.6887815 0.71086323 0.5636208 -0.62382185 -0.8751205 -0.31649965 0.69185054 -0.18424152 -0.45120555 0.29107824 -0.5739532 0.7304476 0.3992607 -0.922578 0.9883971 0.28246146 -0.84279907 0.38545159 0.4091734 -0.80609953 -0.5241765 -0.632769 -0.3362736 -0.59111774 0.76373374 -0.69234073 0.7998714 -0.67139244 0.5238468 0.8215899 0.269263 0.39738178 0.76372373 0.908195 -0.06851494 0.4542982 0.45621157 -0.44760507 -0.83066213 0.66065496 -0.88859904 0.9643332 0.9115963 -0.19610597 -0.65701926 0.9189955 0.6287753 0.67635864 0.5736001 0.8044621 0.15594688 0.86987233 0.7462026 0.12886593 -0.5712023 -0.5838734 -0.86150944 -0.14513661 0.4001345 -0.8301816 -0.5192989 -0.030817032 -0.7183517 0.8380971 0.89118505 0.2482801 0.3229521 -0.7124013 0.09927724 0.6977972 -0.36181659 0.15715508 -0.37333328 -0.3119658 0.38934422 -0.9246967 -0.69620144 0.30704135 0.7583822 0.67625874 0.95085895 -0.17748009 0.83025944 -0.7904812 0.0092894435 -0.6270038 0.70603037 -0.86139035 0.439161 -0.49321476 0.11893122 0.35378492 -0.26304346 0.8295489 -0.7937253 -0.8962823 0.014315367 0.94419086 0.31369293 0.83964854 -0.9051608 -0.85172963 0.57419956 0.09025146 0.3214997 -0.40744835 -0.81386524 -0.94876003 -0.90316546 0.04230067 0.8891936 0.86207885 -0.81703323 -0.28366336 0.29817373 0.46572793 -0.86243534 -0.2972048 0.8919944 0.7192865 0.13736558 -0.45771334 0.42584884 -0.8733407 -0.5144834 0.81928575 -0.30608577 -0.7988643 0.8505366 0.28752202 -0.5017048 -0.5238452 -0.8061857 0.6278151 -0.34388247 0.7633614 -0.7522656 -0.8722352 -0.52575344 -0.14364782 -0.31351382 0.8801849 -0.7223247 -0.3271227 0.33801377 0.31058484 -0.72854567 0.89848644 0.5779065 0.8268541 -0.69379383 -0.98829764 0.21864156 0.8105969 -0.8732748 -0.7421322 -0.9170898 0.9027748 0.82607317 0.39755833 0.9220383 -0.283862 0.4383273 0.6799607 0.4448024 -0.64501417 -0.9438201 0.8659498 -0.3293668 -0.2583968 -0.57871306 0.7339605 0.94360584 -0.74292254 0.19106579 0.50790274 0.2600404 -0.905055 0.44768524 0.260518 -0.28993976 -0.7989353 -0.73829746 -0.18344413 -0.9270479 -0.7546606 0.76900804 -0.24674141 0.2615453 0.57723397 -0.7489821 0.5510926 0.80890304 0.40525562 -0.7640631 0.393955 0.7950583 0.5367366 -0.70995283 -0.4599515 -0.26209813 -0.6711366 0.63875073 -0.44605723 0.89179 0.834214 -0.7565692 -0.78562224 0.7342142 0.8891383 -0.09093079 -0.49500114 0.8654859 -0.13922475 -0.49759433 -0.18394125 -0.8776661 -0.7410366 0.10621539 0.5244047 0.3784399 0.024058253 0.78752077 0.3618246 0.8090063 -0.4782134 0.79840237 -0.90588874 -0.8554216 -0.9068363 -0.35494876 -0.84319985 -0.6036904 0.9042927 0.09163514 -0.11074321 -0.025732115 0.68813133 -0.59045315 0.29746267 -0.8124678 -0.6079632 -0.6872285 0.8528304 0.08159663 -0.8570137 -0.8579423 0.6701019 -0.41879064 0.44067433 0.8596296 0.4379928 -0.74163747 0.92688125 -0.12972352 0.23661734 0.48412457 0.67597175 0.907926 -0.5266585 0.9106678 -0.10212502 -0.15129557 -0.1076232 -0.8240007 0.53838515 0.81500334 -0.63102996 -0.0438855 0.08797762 0.42031252 0.80969054 -0.8219235 -0.8045857 0.57258767 0.6340146 -0.08463319 -0.70497674 0.8687426 0.46703804 -0.70616174 0.75906456 0.63583744 0.7428732 0.8675524 0.71673703 0.8815497 0.5573707 0.7230853 0.8245704 0.96208096 -0.35351393 0.981297 -0.30206084 0.8020734 0.20490037 0.7777319 0.8546009 -0.8102503 -0.5562451 0.8425519 0.26068005 -0.58346665 -0.94447905 -0.1033763 0.88908696 0.7642819 -0.13533658 -0.90390766 0.31226987 -0.710181 -0.45474687 -0.61767524 -0.90628743 -0.50176257 -0.6154725'.split(' ')\n",
        "cv3 = '0.64085686 0.26927942 -0.35969937 -0.9166863 0.4096278 -0.28096712 -0.3726058 -0.19097348 -0.4204356 -0.70466334 0.8543717 0.844455 0.71128607 -0.17980358 -0.57104206 -0.78282523 -0.18952638 0.37786424 0.4176375 0.15042797 -0.840889 0.8915771 0.20520218 -0.3080567 0.84185016 -0.21542515 0.14446834 -0.044925302 0.7315006 -0.4664884 -0.48407412 0.9869005 -0.61090463 0.7908162 0.32261005 0.4183198 0.5356138 0.6803821 0.57228446 0.42292625 -0.4702835 -0.39839163 -0.76480424 0.95417523 -0.07896119 0.8307024 -0.848013 -0.3193295 -0.64683294 0.437456 -0.92019546 0.8904673 -0.8670376 0.9748081 0.73694134 0.60983056 0.5349728 0.56520224 -0.82059234 0.624992 -0.45737213 0.8668908 0.33494794 -0.7866153 0.74696076 0.8035227 -0.8412483 -0.47663766 -0.57693505 0.66774005 0.5611317 -0.84714234 -0.8575764 0.8484279 -0.7677577 -0.7311832 -0.8245059 0.5683073 0.6153504 0.41937613 0.84226096 0.4893717 0.98974144 0.764039 -0.77748847 0.76318157 0.43432844 -0.79953665 0.1405249 0.40406737 -0.402277 -0.47332907 0.29172882 0.8294605 0.7324505 -0.8269034 -0.6534427 0.839846 0.3457598 -0.19786344 0.72793424 -0.3966509 0.8951607 0.6324878 0.3522255 0.15885293 -0.8238356 0.7641253 -0.9051314 0.949611 0.93317133 -0.78516954 -0.770939 0.93609446 0.5526682 0.53535 0.5234579 0.6675477 0.26819488 0.25410596 0.7388794 0.37366208 -0.93253076 -0.25435174 -0.8458093 -0.072875954 -0.004290886 -0.59070164 -0.20485747 0.32882163 -0.34366068 0.942854 0.20771278 -0.6603002 -0.6769307 -0.8309239 0.52944565 -0.61219645 0.42775804 -0.25453234 0.4666667 -0.2419031 0.33473846 -0.79902077 -0.9003285 0.3305622 0.9081361 0.21212146 0.31831968 -0.558644 0.7702616 -0.801016 0.5784682 0.3021363 0.4744308 -0.28742683 0.2786217 -0.6151236 0.2683939 -0.57584846 -0.09055355 0.47722197 -0.36400762 -0.3571025 0.448792 -0.4048188 -0.62073576 0.8527163 -0.78899765 -0.8287003 0.22374189 -0.54388535 0.15481028 0.36469474 -0.8617288 -0.94431746 -0.648882 0.40926468 0.39084074 0.43673095 -0.96180135 -0.56245786 0.36746177 0.5130806 -0.8960477 0.6157977 0.9028074 -0.56652033 0.92359805 0.7984801 0.028557986 -0.7615073 0.038511857 0.7603537 -0.43177557 0.1670098 0.88029397 -0.2726498 -0.6228765 -0.7764401 -0.8337321 -0.36397526 0.46301362 0.79131144 -0.8708223 -0.86562717 -0.23325403 -0.40054306 -0.77160436 0.9718059 -0.74150157 -0.32963535 0.35145426 0.071406394 -0.4220887 -0.29844284 0.8115793 0.92328405 0.8499235 -0.97267675 0.27695784 0.66417277 0.22361787 0.53627527 -0.45939076 0.4932201 0.49512395 0.121129215 -0.21108325 -0.5171206 0.8945054 0.7445246 0.40139222 -0.7247611 -0.5107889 0.7600119 -0.5814812 -0.7041414 -0.21263401 0.83179873 0.9625053 -0.87323606 0.2601396 0.65888083 0.80836177 -0.9314743 0.46291494 0.5833303 0.95317507 0.21137522 -0.78967714 -0.6603508 -0.7416349 -0.77322936 0.7553705 -0.67774683 -0.6380046 0.8715588 -0.54388297 0.15734832 0.78318197 -0.58590496 -0.39290792 -0.23483261 0.31336123 0.38415396 0.010711808 0.26815492 -0.04691425 -0.607667 0.32487318 -0.43109906 -0.37545413 -0.59027565 -0.49411023 -0.66582626 0.9425045 0.8660767 -0.040376753 0.04800275 0.8696598 0.4250666 -0.031015616 0.62407017 -0.8282063 -0.71163327 0.80354965 -0.846848 -0.34073496 -0.86919177 0.603479 0.19585577 0.72444206 0.194236 0.8110346 -0.95859367 0.103141755 -0.91641855 0.760006 -0.21063519 0.45736778 0.8533139 0.17580703 -0.21586482 -0.2482636 -0.63395834 0.18500412 0.7713363 -0.46361527 -0.94424075 0.39726174 0.9141704 -0.07756302 -0.4511861 -0.89408 0.8765419 -0.52640617 0.6831958 0.9083917 0.4769277 -0.97629464 0.90666807 0.8815175 -0.25154 -0.30598858 0.70620763 0.92206925 0.49997342 0.90325606 -0.5623251 0.046687573 -0.7751558 0.6326153 0.85867655 0.7592151 0.0393606 0.57264477 0.23194295 0.6864518 0.5324965 -0.96415603 -0.81037074 -0.665895 0.95349187 -0.19094278 -0.64404106 0.864409 0.43530193 -0.9101975 0.39095056 0.6687995 0.3413687 -0.54413843 0.8425755 0.86829376 0.2493426 0.72147715 0.8133199 0.96199626 0.8578372 0.9475158 -0.6114451 0.8027892 0.8386621 -0.9005349 0.83100104 -0.09780283 -0.7130637 0.9026545 0.77029896 0.13212174 -0.9024687 0.08855167 0.79928315 -0.828151 0.2898093 -0.89632493 -0.4888897 -0.069916755 -0.88518965 0.8850719 -0.94252515 -0.86057013 -0.6377933'.split(' ')\n",
        "cv4 = '0.5734074 -0.61398154 0.4235922 -0.500674 -0.31744164 0.2860159 0.47893995 0.33538994 -0.58969945 -0.31442124 -0.045689248 0.1951206 -0.106635675 0.8522157 0.32170612 0.14846721 -0.23422436 0.2566128 0.35416573 0.30487898 -0.56470656 0.4811042 0.13768807 0.42384884 0.3180273 -0.19174111 0.016844373 0.24200282 -0.40578657 -0.37588423 -0.47123435 0.95795417 -0.24340452 0.019658893 -0.5846294 0.11170499 0.31953207 0.7904211 -0.2106193 -0.012084905 0.027129374 -0.705218 -0.208032 0.7851064 0.31973124 0.1471774 -0.4081956 0.59318554 0.1572701 -0.2523743 -0.69929725 0.43370143 -0.08244529 0.8451293 0.51571214 0.22130221 0.7471662 0.14718235 -0.24402012 0.96402276 -0.8121625 0.43394214 -0.6068375 0.18780479 -0.33113688 -0.11074856 -0.013787996 -0.3258899 -0.34781212 0.14330223 -0.7163793 -0.20241538 0.016024597 0.17852949 0.16787179 -0.29307663 -0.22273275 0.21848203 -0.1302582 0.017573811 0.33909965 -0.43587783 0.98179257 0.089370236 -0.29877597 0.02067752 0.62103283 -0.11339539 0.25942582 0.047393203 -0.3892955 -0.48249066 0.49583542 0.433446 0.13382533 -0.08315526 0.51558065 0.18507749 -0.32955074 0.13721122 -0.09669566 0.42780548 0.66870534 0.32425815 0.27011746 -0.41022074 -0.3451697 0.2595359 -0.57815313 0.5607805 0.7305 -0.1200033 0.15102334 0.41841018 -0.35558757 0.5467684 -0.53560317 0.06254476 -0.63493127 0.49986926 -0.3555814 0.43655834 -0.74620295 0.015955076 -0.047959756 -0.2673643 0.2152421 0.022326067 0.17483649 -0.6091094 0.47287846 0.5898849 0.75124943 -0.00027438626 -0.06425342 -0.2315067 0.31033227 -0.12252718 -0.2953732 -0.09208945 0.475537 0.3056571 0.18659168 -0.7884743 -0.6348081 -0.39119908 0.77346337 0.3178567 0.43138164 -0.44775012 0.30257583 -0.17981993 0.35829398 -0.34788132 0.3616948 0.095639676 0.089031816 -0.42365032 0.11670324 -0.0013457984 0.043600135 0.61135805 0.24487185 -0.3715069 0.102820024 0.47925124 -0.2812 0.28022262 -0.56024665 -0.07883543 -0.517104 0.45030385 -0.44254214 0.45029688 -0.15542753 -0.75654733 -0.4723291 -0.2604515 0.46728134 0.20088068 -0.6887331 0.3323656 0.11021472 -0.11097113 -0.48830593 -0.23327763 0.40618506 -0.28942752 0.63778394 0.107159466 0.27197468 -0.18498538 0.61108375 0.11030665 -0.213656 0.31464374 0.44851667 0.2183905 -0.92966926 0.2405873 -0.11713372 -0.45769203 0.478328 -0.26898697 -0.21190669 -0.2986389 0.27768698 -0.31384474 0.24590003 0.8044126 -0.2564097 0.056802347 -0.002651848 -0.11687763 0.7227784 0.21490479 0.5925345 0.61484766 0.0772582 -0.93769866 0.28325546 -0.45476994 0.06948052 -0.07236605 -0.5666586 0.35772994 0.86671776 0.012574226 0.5168843 -0.040327832 0.25139594 -0.007040769 0.20507221 0.009254292 -0.7774564 0.6167949 0.15669984 -0.0220242 0.0625799 0.27003694 0.80015016 -0.3074997 -0.42836967 -0.08555502 -0.04412572 -0.6806056 0.08308841 -0.2343809 0.740103 0.535595 0.10700224 0.059824437 -0.3876745 0.14880493 -0.17900917 0.10669786 -0.77621776 0.2435436 -0.4628915 0.058333904 -0.3229422 -0.4407444 -0.51205754 0.74076056 -0.13893291 0.016819477 -0.3664317 -0.113506995 0.14252324 -0.0010255873 0.34012187 -0.13034378 0.31043017 0.17623842 0.093443364 -0.08441633 0.74612916 0.3775605 -0.40139654 -0.3137077 0.4406038 -0.022203535 0.24988547 -0.33710054 -0.32720587 -0.25706488 0.114845544 -0.20690489 -0.019017927 -0.3280209 -0.10432795 -0.1764364 0.025212742 0.06052086 0.075281404 -0.8349322 -0.49279717 -0.645844 -0.2801473 -0.80481493 -0.09536111 0.5235479 -0.31267455 -0.62929875 -0.43372786 -0.59521115 -0.038283855 0.8772675 -0.115813576 -0.7251104 -0.05386284 0.78993046 0.55039 -0.31414875 -0.69086975 0.25000453 0.3766962 0.32109675 0.3541618 -0.052633807 -0.88176763 0.6422826 0.40293926 -0.28157538 -0.5686592 -0.07452075 0.5057757 -0.5179705 0.3069077 -0.26519087 -0.30247602 0.30812314 -0.18245357 0.3680307 0.20569634 0.21337335 -0.18038228 0.40508342 -0.04784979 -0.09279611 -0.77482533 0.123872444 0.026963396 0.60662353 -0.14778377 -0.5331242 0.17608218 0.7307638 -0.67185485 0.10940442 0.33184886 0.043500282 -0.06357804 0.13079274 0.29119745 0.4277526 -0.41733757 0.4850269 0.8388313 0.22717366 0.72622925 -0.080889985 0.31700152 -0.01670111 -0.28721827 0.38158035 -0.49844086 -0.31065318 0.5223618 -0.07333404 -0.8248668 -0.64481604 -0.0051211976 0.32134938 -0.43730146 -0.5653956 -0.5364347 -0.12693797 -0.057016112 -0.52024657 0.2751304 -0.66790515 -0.3270128 -0.65163535'.split(' ')"
      ]
    },
    {
      "cell_type": "markdown",
      "metadata": {
        "id": "Qb8z7dpDcEBW"
      },
      "source": [
        "7. Next, we will calculate the cosine similarity of two code vectors."
      ]
    },
    {
      "cell_type": "code",
      "execution_count": null,
      "metadata": {
        "colab": {
          "base_uri": "https://localhost:8080/"
        },
        "id": "8bZzaRSdMxB9",
        "outputId": "81600afc-44bf-4f62-b458-a49379cbf434"
      },
      "outputs": [
        {
          "output_type": "stream",
          "name": "stdout",
          "text": [
            "Cosine Similarity (A-A): 1.0\n",
            "Cosine Similarity (A-B): 0.9999999999999658\n",
            "Cosine Similarity (A-B): 0.5927242614071938\n"
          ]
        }
      ],
      "source": [
        "# Code adapted from https://www.geeksforgeeks.org/how-to-calculate-cosine-similarity-in-python/\n",
        "# import required libraries\n",
        "import numpy as np\n",
        "from numpy.linalg import norm\n",
        "\n",
        "# convert the codevectors to numpy arrays\n",
        "A = np.array(cv1, dtype=float)\n",
        "B = np.array(cv1, dtype=float)\n",
        "\n",
        "# compute cosine similarity -- compare the same vector of the same code snippet\n",
        "cosine = np.dot(A,B)/(norm(A)*norm(B))\n",
        "print(\"Cosine Similarity (A-A):\", cosine)\n",
        "\n",
        "# convert the codevectors to numpy arrays\n",
        "A = np.array(cv1, dtype=float)\n",
        "B = np.array(cv2, dtype=float)\n",
        "\n",
        "# compute cosine similarity -- compare between two code snippets\n",
        "cosine = np.dot(A,B)/(norm(A)*norm(B))\n",
        "print(\"Cosine Similarity (A-B):\", cosine)\n",
        "\n",
        "# convert the codevectors to numpy arrays\n",
        "A = np.array(cv1, dtype=float)\n",
        "B = np.array(cv3, dtype=float)\n",
        "\n",
        "# compute cosine similarity -- compare between two code snippets\n",
        "cosine = np.dot(A,B)/(norm(A)*norm(B))\n",
        "print(\"Cosine Similarity (A-B):\", cosine)\n"
      ]
    },
    {
      "cell_type": "markdown",
      "metadata": {
        "id": "LSEWSzFqcHea"
      },
      "source": [
        "8. Write code to create a list of the 4 code vectors and compare all of them."
      ]
    },
    {
      "cell_type": "code",
      "execution_count": null,
      "metadata": {
        "id": "PyVpQplrYhxX",
        "colab": {
          "base_uri": "https://localhost:8080/"
        },
        "outputId": "e3e72442-0845-44b7-f3c6-95b0ff3ecd62"
      },
      "outputs": [
        {
          "output_type": "stream",
          "name": "stdout",
          "text": [
            "Cosine Similarity (cv1 - cv1): 1.0\n",
            "Cosine Similarity (cv1 - cv2): 0.9999999999999658\n",
            "Cosine Similarity (cv1 - cv3): 0.5927242614071938\n",
            "Cosine Similarity (cv1 - cv4): 0.4986763941064152\n",
            "Cosine Similarity (cv2 - cv2): 1.0\n",
            "Cosine Similarity (cv2 - cv3): 0.5927242463160035\n",
            "Cosine Similarity (cv2 - cv4): 0.4986764204513578\n",
            "Cosine Similarity (cv3 - cv3): 0.9999999999999998\n",
            "Cosine Similarity (cv3 - cv4): 0.5198204441217181\n",
            "Cosine Similarity (cv4 - cv4): 1.0000000000000002\n"
          ]
        }
      ],
      "source": [
        "# Fill in this part\n",
        "\n",
        "# cv1 - cv1\n",
        "# cv1 - cv2\n",
        "# cv1 - cv3\n",
        "# cv1 - cv4\n",
        "# ...\n",
        "# cv4 - cv4\n",
        "\n",
        "# Function to calculate cosine similarity\n",
        "def cosine_similarity(A, B):\n",
        "    return np.dot(A, B) / (norm(A) * norm(B))\n",
        "\n",
        "# Convert codevectors to numpy arrays\n",
        "cvectors = [cv1, cv2, cv3, cv4]\n",
        "\n",
        "# Loop through all combinations of codevectors\n",
        "for i in range(len(cvectors)):\n",
        "    for j in range(i, len(cvectors)):\n",
        "        A = np.array(cvectors[i], dtype=float)\n",
        "        B = np.array(cvectors[j], dtype=float)\n",
        "        cosine = cosine_similarity(A, B)\n",
        "        print(f\"Cosine Similarity (cv{i+1} - cv{j+1}):\", cosine)"
      ]
    }
  ],
  "metadata": {
    "accelerator": "GPU",
    "colab": {
      "gpuType": "T4",
      "provenance": []
    },
    "kernelspec": {
      "display_name": "Python 3",
      "name": "python3"
    },
    "language_info": {
      "name": "python"
    }
  },
  "nbformat": 4,
  "nbformat_minor": 0
}